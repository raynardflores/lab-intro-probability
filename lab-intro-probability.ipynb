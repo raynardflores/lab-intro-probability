{
 "cells": [
  {
   "cell_type": "markdown",
   "metadata": {},
   "source": [
    "# Lab | Intro to Probability"
   ]
  },
  {
   "cell_type": "markdown",
   "metadata": {},
   "source": [
    "**Objective**\n",
    "\n",
    "Welcome to this Intro to Probability lab, where we explore decision-making scenarios through the lens of probability and strategic analysis. In the business world, making informed decisions is crucial, especially when faced with uncertainties. This lab focuses on scenarios where probabilistic outcomes play a significant role in shaping strategies and outcomes. Students will engage in exercises that require assessing and choosing optimal paths based on data-driven insights. The goal is to enhance your skills by applying probability concepts to solve real-world problems."
   ]
  },
  {
   "cell_type": "markdown",
   "metadata": {},
   "source": [
    "**Challenge 1**"
   ]
  },
  {
   "cell_type": "markdown",
   "metadata": {},
   "source": [
    "#### Ironhack Airlines \n",
    "\n",
    "Often Airlines sell more tickets than they have seats available, this is called overbooking. Consider the following:\n",
    "- A plane has 450 seats. \n",
    "- Based on historical data we conclude that each individual passenger has a 3% chance of missing it's flight. \n",
    "\n",
    "If the Ironhack Airlines routinely sells 460 tickets, what is the chance that they have a seats for all passenger?"
   ]
  },
  {
   "cell_type": "code",
   "execution_count": 1,
   "metadata": {},
   "outputs": [
    {
     "name": "stdout",
     "output_type": "stream",
     "text": [
      "Probability that Ironhack Airlines has enough seats for all passengers: 0.18527005339169644\n"
     ]
    }
   ],
   "source": [
    "import scipy.stats as stats\n",
    "\n",
    "# Parameters\n",
    "total_seats = 450\n",
    "total_tickets_sold = 460\n",
    "probability_of_missing = 0.03\n",
    "\n",
    "# Number of passengers who might miss their flight\n",
    "num_passengers_missing = total_tickets_sold - total_seats\n",
    "\n",
    "# Calculate the probability using binomial distribution CDF\n",
    "probability_all_seats_available = stats.binom.cdf(num_passengers_missing, total_tickets_sold, probability_of_missing)\n",
    "\n",
    "print(\"Probability that Ironhack Airlines has enough seats for all passengers:\", probability_all_seats_available)\n"
   ]
  },
  {
   "cell_type": "markdown",
   "metadata": {},
   "source": [
    "**Challenge 2**"
   ]
  },
  {
   "cell_type": "markdown",
   "metadata": {},
   "source": [
    "#### Ironhack Call Center "
   ]
  },
  {
   "cell_type": "markdown",
   "metadata": {},
   "source": [
    "Suppose a customer service representative at a call center is handling customer complaints. Consider the following:\n",
    "- The probability of successfully resolving a customer complaint on the first attempt is 0.3. \n",
    "\n",
    "\n",
    "What is the probability that the representative needs to make at least three attempts before successfully resolving a customer complaint?"
   ]
  },
  {
   "cell_type": "code",
   "execution_count": 2,
   "metadata": {},
   "outputs": [
    {
     "name": "stdout",
     "output_type": "stream",
     "text": [
      "Probability that the representative needs to make at least three attempts: 0.4899999999999992\n"
     ]
    }
   ],
   "source": [
    "# Parameters\n",
    "probability_success_first_attempt = 0.3\n",
    "\n",
    "# Probability of needing at least three attempts\n",
    "probability_at_least_three_attempts = sum([(1 - probability_success_first_attempt) ** (k - 1) * probability_success_first_attempt for k in range(3, 100)])\n",
    "\n",
    "print(\"Probability that the representative needs to make at least three attempts:\", probability_at_least_three_attempts)\n"
   ]
  },
  {
   "cell_type": "markdown",
   "metadata": {},
   "source": [
    "**Challenge 3**"
   ]
  },
  {
   "cell_type": "markdown",
   "metadata": {},
   "source": [
    "#### Ironhack Website"
   ]
  },
  {
   "cell_type": "markdown",
   "metadata": {},
   "source": [
    "Consider a scenario related to Ironhack website traffic. Where:\n",
    "- our website takes on average 500 visits per hour.\n",
    "- the website's server is designed to handle up to 550 vists per hour.\n",
    "\n",
    "\n",
    "What is the probability of the website server being overwhelmed?"
   ]
  },
  {
   "cell_type": "code",
   "execution_count": 7,
   "metadata": {},
   "outputs": [
    {
     "name": "stdout",
     "output_type": "stream",
     "text": [
      "Probability of the website server being overwhelmed: 0.012898220540555066\n"
     ]
    }
   ],
   "source": [
    "import math\n",
    "\n",
    "# Parameters\n",
    "average_visits_per_hour = 500\n",
    "server_capacity = 550\n",
    "\n",
    "# Calculate the probability using Poisson distribution\n",
    "def poisson_pmf(lmbda, k):\n",
    "    # Initialize the result\n",
    "    result = 1.0\n",
    "    \n",
    "    # Multiply the result by each term iteratively\n",
    "    for i in range(1, k + 1):\n",
    "        result *= lmbda / i\n",
    "    result *= math.exp(-lmbda)\n",
    "    \n",
    "    return result\n",
    "\n",
    "# Calculate the cumulative probability of server being overwhelmed\n",
    "cumulative_probability = 0\n",
    "k = server_capacity + 1\n",
    "threshold = 1e-10\n",
    "max_iterations = 10000\n",
    "\n",
    "for _ in range(max_iterations):\n",
    "    prob = poisson_pmf(average_visits_per_hour, k)\n",
    "    cumulative_probability += prob\n",
    "    if prob < threshold:\n",
    "        break\n",
    "    k += 1\n",
    "\n",
    "print(\"Probability of the website server being overwhelmed:\", cumulative_probability)\n"
   ]
  },
  {
   "cell_type": "markdown",
   "metadata": {},
   "source": [
    "What is the probability of being overwhelmed at some point during a day? (consider 24hours)"
   ]
  },
  {
   "cell_type": "code",
   "execution_count": 8,
   "metadata": {},
   "outputs": [
    {
     "name": "stdout",
     "output_type": "stream",
     "text": [
      "Probability of being overwhelmed at some point during the day: 0.2677043869515181\n"
     ]
    }
   ],
   "source": [
    "import math\n",
    "\n",
    "# Parameters\n",
    "average_visits_per_hour = 500\n",
    "server_capacity = 550\n",
    "hours_in_day = 24\n",
    "\n",
    "# Calculate the probability using Poisson distribution\n",
    "def poisson_pmf(lmbda, k):\n",
    "    result = 1.0\n",
    "    for i in range(1, k + 1):\n",
    "        result *= lmbda / i\n",
    "    result *= math.exp(-lmbda)\n",
    "    return result\n",
    "\n",
    "# Calculate the probability of not being overwhelmed in a single hour\n",
    "probability_not_overwhelmed_single_hour = sum(poisson_pmf(average_visits_per_hour, k) for k in range(server_capacity + 1))\n",
    "\n",
    "# Calculate the probability of not being overwhelmed in any of the 24 hours\n",
    "probability_not_overwhelmed_24_hours = probability_not_overwhelmed_single_hour ** hours_in_day\n",
    "\n",
    "# Probability of being overwhelmed at some point during the day\n",
    "probability_overwhelmed_day = 1 - probability_not_overwhelmed_24_hours\n",
    "\n",
    "print(\"Probability of being overwhelmed at some point during the day:\", probability_overwhelmed_day)\n"
   ]
  },
  {
   "cell_type": "markdown",
   "metadata": {},
   "source": [
    "**Challenge 4**"
   ]
  },
  {
   "cell_type": "markdown",
   "metadata": {},
   "source": [
    "#### Ironhack Helpdesk"
   ]
  },
  {
   "cell_type": "markdown",
   "metadata": {},
   "source": [
    "Consider a scenario related to the time between arrivals of customers at a service desk.\n",
    "\n",
    "On average, a customers arrives every 10minutes.\n",
    "\n",
    "What is the probability that the next customer will arrive within the next 5 minutes?"
   ]
  },
  {
   "cell_type": "code",
   "execution_count": 9,
   "metadata": {},
   "outputs": [
    {
     "name": "stdout",
     "output_type": "stream",
     "text": [
      "Probability that the next customer will arrive within the next 5 minutes: 0.3934693402873666\n"
     ]
    }
   ],
   "source": [
    "import scipy.stats as stats\n",
    "\n",
    "# Parameters\n",
    "average_time_between_arrivals = 10  # in minutes\n",
    "\n",
    "# Calculate the rate parameter lambda\n",
    "rate_parameter = 1 / average_time_between_arrivals\n",
    "\n",
    "# Calculate the probability using exponential distribution CDF\n",
    "probability_within_5_minutes = stats.expon.cdf(5, scale=1/rate_parameter)\n",
    "\n",
    "print(\"Probability that the next customer will arrive within the next 5 minutes:\", probability_within_5_minutes)\n"
   ]
  },
  {
   "cell_type": "markdown",
   "metadata": {},
   "source": [
    "If there is no customer for 15minutes, employees can that a 5minutes break.\n",
    "\n",
    "What is the probability an employee taking a break?"
   ]
  },
  {
   "cell_type": "code",
   "execution_count": 10,
   "metadata": {},
   "outputs": [
    {
     "name": "stdout",
     "output_type": "stream",
     "text": [
      "Probability that an employee takes a break within the next 5 minutes: 0.28346868942621073\n"
     ]
    }
   ],
   "source": [
    "# Parameters\n",
    "time_until_break = 15  # in minutes\n",
    "\n",
    "# Calculate the rate parameter lambda\n",
    "rate_parameter_break = 1 / time_until_break\n",
    "\n",
    "# Calculate the probability using exponential distribution CDF\n",
    "probability_break_within_5_minutes = stats.expon.cdf(5, scale=1/rate_parameter_break)\n",
    "\n",
    "print(\"Probability that an employee takes a break within the next 5 minutes:\", probability_break_within_5_minutes)\n"
   ]
  },
  {
   "cell_type": "markdown",
   "metadata": {},
   "source": [
    "**Challenge 5**"
   ]
  },
  {
   "cell_type": "markdown",
   "metadata": {},
   "source": [
    "The weights of a certain species of birds follow a normal distribution with a mean weight of 150 grams and a standard deviation of 10 grams. \n",
    "\n",
    "- If we randomly select a bird, what is the probability that its weight is between 140 and 160 grams?"
   ]
  },
  {
   "cell_type": "code",
   "execution_count": 13,
   "metadata": {},
   "outputs": [
    {
     "name": "stdout",
     "output_type": "stream",
     "text": [
      "Probability that the weight is between 140 and 160 grams: 0.6826894921370859\n"
     ]
    }
   ],
   "source": [
    "# Parameters\n",
    "mean_weight = 150  # grams\n",
    "std_dev = 10  # grams\n",
    "\n",
    "# Calculate the probability using normal distribution CDF\n",
    "probability_between_140_and_160 = stats.norm.cdf(160, loc=mean_weight, scale=std_dev) - stats.norm.cdf(140, loc=mean_weight, scale=std_dev)\n",
    "\n",
    "print(\"Probability that the weight is between 140 and 160 grams:\", probability_between_140_and_160)\n"
   ]
  },
  {
   "cell_type": "markdown",
   "metadata": {},
   "source": [
    "**Challenge 6**"
   ]
  },
  {
   "cell_type": "markdown",
   "metadata": {},
   "source": [
    "If the lifetime (in hours) of a certain electronic component follows an exponential distribution with a mean lifetime of 50 hours, what is the probability that the component fails within the first 30 hours?"
   ]
  },
  {
   "cell_type": "code",
   "execution_count": 12,
   "metadata": {},
   "outputs": [
    {
     "name": "stdout",
     "output_type": "stream",
     "text": [
      "Probability that the component fails within the first 30 hours: 0.4511883639059735\n"
     ]
    }
   ],
   "source": [
    "# Parameters\n",
    "mean_lifetime = 50  # hours\n",
    "\n",
    "# Calculate the rate parameter lambda\n",
    "rate_parameter = 1 / mean_lifetime\n",
    "\n",
    "# Calculate the probability using exponential distribution CDF\n",
    "probability_failure_within_30_hours = stats.expon.cdf(30, scale=1/rate_parameter)\n",
    "\n",
    "print(\"Probability that the component fails within the first 30 hours:\", probability_failure_within_30_hours)\n"
   ]
  }
 ],
 "metadata": {
  "kernelspec": {
   "display_name": "Python 3 (ipykernel)",
   "language": "python",
   "name": "python3"
  },
  "language_info": {
   "codemirror_mode": {
    "name": "ipython",
    "version": 3
   },
   "file_extension": ".py",
   "mimetype": "text/x-python",
   "name": "python",
   "nbconvert_exporter": "python",
   "pygments_lexer": "ipython3",
   "version": "3.11.7"
  }
 },
 "nbformat": 4,
 "nbformat_minor": 2
}
